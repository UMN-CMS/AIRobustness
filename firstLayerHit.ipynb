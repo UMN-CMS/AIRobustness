{
 "cells": [
  {
   "cell_type": "code",
   "execution_count": 1,
   "metadata": {},
   "outputs": [
    {
     "name": "stderr",
     "output_type": "stream",
     "text": [
      "100%|██████████| 1000/1000 [01:44<00:00,  9.54it/s]\n"
     ]
    }
   ],
   "source": [
    "import numpy as np\n",
    "import pickle\n",
    "import glob\n",
    "from tqdm import tqdm\n",
    "import matplotlib.pyplot as plt\n",
    "\n",
    "from tools.load_data import load_data\n",
    "\n",
    "'''\n",
    "This is simply a file to test the tools capability of the folder. It will be better to outsource the tools which we need.\n",
    "Take an example of Tiago's and then try to run it in the corrent environment. \n",
    "Running with the correct file paths is really all that we care about. \n",
    "The scructure is something that cna be changed depending on how we package it\n",
    "\n",
    "1 Copy over an example file, say the radius or lenghts that we want to work on\n",
    "2 open that on the side and copy over the section about importing data\n",
    "\n",
    "When we have access to the files in the way that we want them and have the data parsed, I no longer have to follow his file structure\n",
    "I believe tht this will speed up development times as I will work in the way I see myself most able to work. \n",
    "This is a problem as I always have to relearn another's style but I think thats fine to do so long as I incorporate what is more powerful into my own.\n",
    "Pillars of Sun and Earth. These are of the Self and the Other. A bundle of abstraction may only improve the life of that writing code\n",
    "if it follows from their understanding of the abstraction itself - NO OBJECTION - not even from the computer. The abstraction is \n",
    "made to put the mind at ease that whatever is passed into it,\n",
    "given the placement in the code, its environment, where it is drawing from,... these are made to reduce the mental load. But if trying to see the joints \n",
    "and attachements of the towers of earth cause a headache, its best to build from base principles. \n",
    "Its anti-gravity, the flower grows as you water it but its surface is all that matters. The reality underlies it but we are not god, we only use his tools.\n",
    "And are his underlying joints also abstractions or are they real? Does the flower signify itself or the Self? Does the body? Does the brain of the body?\n",
    "Letting go of the notion of time will let language flow forth. Time is the river, and fear will cauterize the river. \n",
    "\n",
    "'''\n",
    "\n",
    "#Data path and data containers\n",
    "file_pattern = \"/home/nstrobbe/mahon336/hgcalmlSingularity/hgcal_minimal_eval_example/output/singlePhoton24-04-01/nominal/*.pkl\"\n",
    "file_limit = 1000\n",
    "files = glob.glob(file_pattern)[:file_limit]\n",
    "data, score_noise_filter, pass_noise_filter, out_gravnet = [], [], [], []\n",
    "\n",
    "#extract data, each length is {file_limit}\n",
    "for file in tqdm(files):\n",
    "    temp_load_data = load_data(file) #4 returns, all tensors\n",
    "    data.append(temp_load_data[0])\n",
    "    score_noise_filter.append(temp_load_data[1])\n",
    "    pass_noise_filter.append(temp_load_data[2])\n",
    "    out_gravnet.append(temp_load_data[3])\n",
    "\n",
    "del temp_load_data, file, files, file_pattern\n"
   ]
  },
  {
   "cell_type": "code",
   "execution_count": 56,
   "metadata": {},
   "outputs": [
    {
     "data": {
      "image/png": "[encoded data removed]",
      "text/plain": [
       "<Figure size 1400x600 with 2 Axes>"
      ]
     },
     "metadata": {},
     "output_type": "display_data"
    }
   ],
   "source": [
    "#data[i]: list , data[i].x: np.array()\n",
    "#hence the odd indexing discrepancy\n",
    "\n",
    "# Clustering algorithm from plots3D.\n",
    "def get_clustering(beta, X, threshold_beta=0.2, threshold_dist=0.5):\n",
    "    n_points = beta.shape[0]\n",
    "    select_condpoints = beta > threshold_beta\n",
    "    indices_condpoints = np.nonzero(select_condpoints)[0]\n",
    "    indices_condpoints = indices_condpoints[np.argsort(-beta[select_condpoints])]\n",
    "    unassigned = np.arange(n_points)\n",
    "    clustering = -1 * np.ones(n_points, dtype=np.int32)\n",
    "    \n",
    "    for index_condpoint in indices_condpoints:\n",
    "        d = np.linalg.norm(X[unassigned] - X[index_condpoint], axis=-1)\n",
    "        assigned_to_this_condpoint = unassigned[d < threshold_dist]\n",
    "        clustering[assigned_to_this_condpoint] = index_condpoint\n",
    "        unassigned = unassigned[~(d < threshold_dist)]\n",
    "    \n",
    "    return clustering\n",
    "\n",
    "# Parsing network output.\n",
    "def process_gravnet(score_noise_filter, pass_noise_filter, out_gravnet):\n",
    "    sigmoid = lambda x : (1+np.exp(-x)) ** (-1)\n",
    "    beta = sigmoid(out_gravnet[:, 0])\n",
    "    cluster_space_coords = out_gravnet[:, 1:].numpy()\n",
    "    pred_clusters_pnf = get_clustering(beta, cluster_space_coords, threshold_beta=0.2, threshold_dist=0.5)\n",
    "    pred_clusters = np.zeros_like(pass_noise_filter, dtype=np.int32)\n",
    "    pred_clusters[pass_noise_filter] = pred_clusters_pnf\n",
    "    \n",
    "    # Count hits per cluster\n",
    "    unique, counts = np.unique(pred_clusters, return_counts=True)\n",
    "    cluster_counts = dict(zip(unique, counts))\n",
    "    \n",
    "    # Create final_pred_hits with clusters having less than 100 hits labeled as -2\n",
    "    final_pred_hits = np.array([cluster if cluster_counts[cluster] >= 100 else -2 for cluster in pred_clusters])\n",
    "    \n",
    "    return final_pred_hits\n",
    "\n",
    "\n",
    "\n",
    "\n",
    "#Data processing\n",
    "z_pos = np.array([ data[i].x[:,7] for i in range(file_limit) ], dtype=object)\n",
    "unique_z = np.unique(np.round(np.concatenate(([np.unique(event) for event in z_pos]))))\n",
    "true_cluster = np.array([ data[i].y for i in range(file_limit)], dtype=object)\n",
    "final_pred_hits = np.array([ process_gravnet(score_noise_filter[i], pass_noise_filter[i], out_gravnet[i]) for i in range(file_limit)], dtype=object)\n",
    "\n",
    "\n",
    "\n",
    "#PREDICTION PROCESSING\n",
    "#Mask all hits for all events for noise, get the first hit in z_pos, find the corresponding layer\n",
    "z_pred_clean = np.array([ z_pos[i][final_pred_hits[i] > 0] for i in range(file_limit)], dtype=object)\n",
    "firstZ_pred = np.array([ np.round(sorted(z_pred_clean[i])[0]) for i in range(file_limit) ])\n",
    "firstLayer_pred = [np.argwhere(firstZ_pred[i]==unique_z)[0][0] for i in range(file_limit)]\n",
    "\n",
    "#TRUTH PROCESSING\n",
    "#Mask all hits for all events for noise, get the first hit in z_pos, find the corresponding layer\n",
    "z_true_clean = np.array([ z_pos[i][true_cluster[i] == True] for i in range(file_limit)], dtype=object)\n",
    "firstZ_true = np.array([ np.round(sorted(z_true_clean[i])[0]) for i in range(file_limit) ])\n",
    "firstLayer_true = [np.argwhere(firstZ_true[i]==unique_z)[0][0] for i in range(file_limit) ] \n",
    "\n",
    "# #plotting\n",
    "fig, axs = plt.subplots(nrows=1, ncols=2)\n",
    "fig.set_figwidth(14)\n",
    "fig.set_figheight(6)\n",
    "fig.tight_layout\n",
    "axs[0].hist(firstLayer_true, range(50), rwidth=0.90)\n",
    "axs[0].set_ylabel(\"Frequency\")\n",
    "axs[0].set_yscale(\"log\")\n",
    "axs[0].set_xlabel(\"Layer\")\n",
    "axs[0].set_title(\"First Hit of Each True Cluster\")\n",
    "axs[1].hist(firstLayer_pred, range(50), rwidth=0.90)\n",
    "axs[1].set_ylabel(\"Frequency\")\n",
    "axs[1].set_yscale(\"log\")\n",
    "axs[1].set_xlabel(\"Layer\")\n",
    "axs[1].set_title(\"First Hit of Each Pred Cluster\")\n",
    "\n",
    "\n",
    "\n",
    "plt.show()\n"
   ]
  },
  {
   "cell_type": "code",
   "execution_count": 53,
   "metadata": {},
   "outputs": [
    {
     "name": "stderr",
     "output_type": "stream",
     "text": [
      "/tmp/ipykernel_573344/1448574183.py:2: DeprecationWarning: __array_wrap__ must accept context and return_scalar arguments (positionally) in the future. (Deprecated NumPy 2.0)\n",
      "  sigme = lambda x : (1 + np.exp(-x)) ** (-1)\n"
     ]
    },
    {
     "data": {
      "text/plain": [
       "np.float32(1.4210855e-14)"
      ]
     },
     "execution_count": 53,
     "metadata": {},
     "output_type": "execute_result"
    }
   ],
   "source": [
    "beta = np.array([torch.sigmoid(out_gravnet[i][:,0]) for i in range(file_limit)], dtype=object)\n",
    "sigme = lambda x : (1 + np.exp(-x)) ** (-1)\n",
    "beta2 = np.array([  sigme(out_gravnet[i][:,0]) for i in range(file_limit)], dtype=object)\n",
    "\n",
    "diff = np.array([(beta[i]-beta2[i]) ** 2 for i in range(1000)], dtype=object)\n",
    "# plt.plot(diff)\n",
    "# plt.show()\n",
    "np.max(np.concatenate(diff))"
   ]
  }
 ],
 "metadata": {
  "kernelspec": {
   "display_name": "myenv",
   "language": "python",
   "name": "python3"
  },
  "language_info": {
   "codemirror_mode": {
    "name": "ipython",
    "version": 3
   },
   "file_extension": ".py",
   "mimetype": "text/x-python",
   "name": "python",
   "nbconvert_exporter": "python",
   "pygments_lexer": "ipython3",
   "version": "3.9.20"
  }
 },
 "nbformat": 4,
 "nbformat_minor": 2
}
